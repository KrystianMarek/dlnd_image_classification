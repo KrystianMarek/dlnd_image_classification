{
 "cells": [
  {
   "cell_type": "markdown",
   "metadata": {
    "collapsed": true,
    "deletable": true,
    "editable": true
   },
   "source": [
    "# Image Classification\n",
    "In this project, you'll classify images from the [CIFAR-10 dataset](https://www.cs.toronto.edu/~kriz/cifar.html).  The dataset consists of airplanes, dogs, cats, and other objects. You'll preprocess the images, then train a convolutional neural network on all the samples. The images need to be normalized and the labels need to be one-hot encoded.  You'll get to apply what you learned and build a convolutional, max pooling, dropout, and fully connected layers.  At the end, you'll get to see your neural network's predictions on the sample images.\n",
    "## Get the Data\n",
    "Run the following cell to download the [CIFAR-10 dataset for python](https://www.cs.toronto.edu/~kriz/cifar-10-python.tar.gz)."
   ]
  },
  {
   "cell_type": "code",
   "execution_count": 1,
   "metadata": {
    "collapsed": false,
    "deletable": true,
    "editable": true
   },
   "outputs": [
    {
     "name": "stderr",
     "output_type": "stream",
     "text": [
      "CIFAR-10 Dataset: 171MB [05:13, 543KB/s]                               \n"
     ]
    },
    {
     "name": "stdout",
     "output_type": "stream",
     "text": [
      "All files found!\n"
     ]
    }
   ],
   "source": [
    "\"\"\"\n",
    "DON'T MODIFY ANYTHING IN THIS CELL THAT IS BELOW THIS LINE\n",
    "\"\"\"\n",
    "from urllib.request import urlretrieve\n",
    "from os.path import isfile, isdir\n",
    "from tqdm import tqdm\n",
    "import problem_unittests as tests\n",
    "import tarfile\n",
    "\n",
    "cifar10_dataset_folder_path = 'cifar-10-batches-py'\n",
    "\n",
    "class DLProgress(tqdm):\n",
    "    last_block = 0\n",
    "\n",
    "    def hook(self, block_num=1, block_size=1, total_size=None):\n",
    "        self.total = total_size\n",
    "        self.update((block_num - self.last_block) * block_size)\n",
    "        self.last_block = block_num\n",
    "\n",
    "if not isfile('cifar-10-python.tar.gz'):\n",
    "    with DLProgress(unit='B', unit_scale=True, miniters=1, desc='CIFAR-10 Dataset') as pbar:\n",
    "        urlretrieve(\n",
    "            'https://www.cs.toronto.edu/~kriz/cifar-10-python.tar.gz',\n",
    "            'cifar-10-python.tar.gz',\n",
    "            pbar.hook)\n",
    "\n",
    "if not isdir(cifar10_dataset_folder_path):\n",
    "    with tarfile.open('cifar-10-python.tar.gz') as tar:\n",
    "        tar.extractall()\n",
    "        tar.close()\n",
    "\n",
    "\n",
    "tests.test_folder_path(cifar10_dataset_folder_path)"
   ]
  },
  {
   "cell_type": "markdown",
   "metadata": {
    "deletable": true,
    "editable": true
   },
   "source": [
    "## Explore the Data\n",
    "The dataset is broken into batches to prevent your machine from running out of memory.  The CIFAR-10 dataset consists of 5 batches, named `data_batch_1`, `data_batch_2`, etc.. Each batch contains the labels and images that are one of the following:\n",
    "* airplane\n",
    "* automobile\n",
    "* bird\n",
    "* cat\n",
    "* deer\n",
    "* dog\n",
    "* frog\n",
    "* horse\n",
    "* ship\n",
    "* truck\n",
    "\n",
    "Understanding a dataset is part of making predictions on the data.  Play around with the code cell below by changing the `batch_id` and `sample_id`. The `batch_id` is the id for a batch (1-5). The `sample_id` is the id for a image and label pair in the batch.\n",
    "\n",
    "Ask yourself \"What are all possible labels?\", \"What is the range of values for the image data?\", \"Are the labels in order or random?\".  Answers to questions like these will help you preprocess the data and end up with better predictions."
   ]
  },
  {
   "cell_type": "code",
   "execution_count": 26,
   "metadata": {
    "collapsed": false,
    "deletable": true,
    "editable": true
   },
   "outputs": [
    {
     "name": "stdout",
     "output_type": "stream",
     "text": [
      "\n",
      "Stats of batch 1:\n",
      "Samples: 10000\n",
      "Label Counts: {0: 1005, 1: 974, 2: 1032, 3: 1016, 4: 999, 5: 937, 6: 1030, 7: 1001, 8: 1025, 9: 981}\n",
      "First 20 Labels: [6, 9, 9, 4, 1, 1, 2, 7, 8, 3, 4, 7, 7, 2, 9, 9, 9, 3, 2, 6]\n",
      "\n",
      "Example of Image 2345:\n",
      "Image - Min Value: 16 Max Value: 253\n",
      "Image - Shape: (32, 32, 3)\n",
      "Label - Label Id: 0 Name: airplane\n"
     ]
    },
    {
     "data": {
      "image/png": "[encoded data removed]",
      "text/plain": [
       "<matplotlib.figure.Figure at 0x7fc1c18159e8>"
      ]
     },
     "metadata": {
      "image/png": {
       "height": 250,
       "width": 253
      }
     },
     "output_type": "display_data"
    }
   ],
   "source": [
    "%matplotlib inline\n",
    "%config InlineBackend.figure_format = 'retina'\n",
    "\n",
    "import helper\n",
    "import numpy as np\n",
    "\n",
    "# Explore the dataset\n",
    "batch_id = 1\n",
    "sample_id = 2345\n",
    "helper.display_stats(cifar10_dataset_folder_path, batch_id, sample_id)"
   ]
  },
  {
   "cell_type": "markdown",
   "metadata": {
    "deletable": true,
    "editable": true
   },
   "source": [
    "## Implement Preprocess Functions\n",
    "### Normalize\n",
    "In the cell below, implement the `normalize` function to take in image data, `x`, and return it as a normalized Numpy array. The values should be in the range of 0 to 1, inclusive.  The return object should be the same shape as `x`."
   ]
  },
  {
   "cell_type": "code",
   "execution_count": 30,
   "metadata": {
    "collapsed": false,
    "deletable": true,
    "editable": true
   },
   "outputs": [
    {
     "name": "stdout",
     "output_type": "stream",
     "text": [
      "Tests Passed\n"
     ]
    }
   ],
   "source": [
    "def normalize(x):\n",
    "    \"\"\"\n",
    "    Normalize a list of sample image data in the range of 0 to 1\n",
    "    : x: List of image data.  The image shape is (32, 32, 3)\n",
    "    : return: Numpy array of normalize data\n",
    "    \"\"\"\n",
    "    min = np.min(x)\n",
    "    max = np.max(x)\n",
    "    return (x - min)/(max - min)\n",
    "\n",
    "\n",
    "\"\"\"\n",
    "DON'T MODIFY ANYTHING IN THIS CELL THAT IS BELOW THIS LINE\n",
    "\"\"\"\n",
    "tests.test_normalize(normalize)"
   ]
  },
  {
   "cell_type": "markdown",
   "metadata": {
    "deletable": true,
    "editable": true
   },
   "source": [
    "### One-hot encode\n",
    "Just like the previous code cell, you'll be implementing a function for preprocessing.  This time, you'll implement the `one_hot_encode` function. The input, `x`, are a list of labels.  Implement the function to return the list of labels as One-Hot encoded Numpy array.  The possible values for labels are 0 to 9. The one-hot encoding function should return the same encoding for each value between each call to `one_hot_encode`.  Make sure to save the map of encodings outside the function.\n",
    "\n",
    "Hint: Don't reinvent the wheel."
   ]
  },
  {
   "cell_type": "code",
   "execution_count": 32,
   "metadata": {
    "collapsed": false,
    "deletable": true,
    "editable": true
   },
   "outputs": [
    {
     "name": "stdout",
     "output_type": "stream",
     "text": [
      "Tests Passed\n"
     ]
    }
   ],
   "source": [
    "def one_hot_encode(x):\n",
    "    \"\"\"\n",
    "    One hot encode a list of sample labels. Return a one-hot encoded vector for each label.\n",
    "    : x: List of sample Labels\n",
    "    : return: Numpy array of one-hot encoded labels\n",
    "    \"\"\"\n",
    "    return np.identity(10)[x]\n",
    "\n",
    "\n",
    "\"\"\"\n",
    "DON'T MODIFY ANYTHING IN THIS CELL THAT IS BELOW THIS LINE\n",
    "\"\"\"\n",
    "tests.test_one_hot_encode(one_hot_encode)"
   ]
  },
  {
   "cell_type": "markdown",
   "metadata": {
    "deletable": true,
    "editable": true
   },
   "source": [
    "### Randomize Data\n",
    "As you saw from exploring the data above, the order of the samples are randomized.  It doesn't hurt to randomize it again, but you don't need to for this dataset."
   ]
  },
  {
   "cell_type": "markdown",
   "metadata": {
    "deletable": true,
    "editable": true
   },
   "source": [
    "## Preprocess all the data and save it\n",
    "Running the code cell below will preprocess all the CIFAR-10 data and save it to file. The code below also uses 10% of the training data for validation."
   ]
  },
  {
   "cell_type": "code",
   "execution_count": 33,
   "metadata": {
    "collapsed": false,
    "deletable": true,
    "editable": true
   },
   "outputs": [],
   "source": [
    "\"\"\"\n",
    "DON'T MODIFY ANYTHING IN THIS CELL\n",
    "\"\"\"\n",
    "# Preprocess Training, Validation, and Testing Data\n",
    "helper.preprocess_and_save_data(cifar10_dataset_folder_path, normalize, one_hot_encode)"
   ]
  },
  {
   "cell_type": "markdown",
   "metadata": {
    "deletable": true,
    "editable": true
   },
   "source": [
    "# Check Point\n",
    "This is your first checkpoint.  If you ever decide to come back to this notebook or have to restart the notebook, you can start from here.  The preprocessed data has been saved to disk."
   ]
  },
  {
   "cell_type": "code",
   "execution_count": 34,
   "metadata": {
    "collapsed": true,
    "deletable": true,
    "editable": true
   },
   "outputs": [],
   "source": [
    "\"\"\"\n",
    "DON'T MODIFY ANYTHING IN THIS CELL\n",
    "\"\"\"\n",
    "import pickle\n",
    "import problem_unittests as tests\n",
    "import helper\n",
    "\n",
    "# Load the Preprocessed Validation data\n",
    "valid_features, valid_labels = pickle.load(open('preprocess_validation.p', mode='rb'))"
   ]
  },
  {
   "cell_type": "markdown",
   "metadata": {
    "deletable": true,
    "editable": true
   },
   "source": [
    "## Build the network\n",
    "For the neural network, you'll build each layer into a function.  Most of the code you've seen has been outside of functions. To test your code more thoroughly, we require that you put each layer in a function.  This allows us to give you better feedback and test for simple mistakes using our unittests before you submit your project.\n",
    "\n",
    ">**Note:** If you're finding it hard to dedicate enough time for this course each week, we've provided a small shortcut to this part of the project. In the next couple of problems, you'll have the option to use classes from the [TensorFlow Layers](https://www.tensorflow.org/api_docs/python/tf/layers) or [TensorFlow Layers (contrib)](https://www.tensorflow.org/api_guides/python/contrib.layers) packages to build each layer, except the layers you build in the \"Convolutional and Max Pooling Layer\" section.  TF Layers is similar to Keras's and TFLearn's abstraction to layers, so it's easy to pickup.\n",
    "\n",
    ">However, if you would like to get the most out of this course, try to solve all the problems _without_ using anything from the TF Layers packages. You **can** still use classes from other packages that happen to have the same name as ones you find in TF Layers! For example, instead of using the TF Layers version of the `conv2d` class, [tf.layers.conv2d](https://www.tensorflow.org/api_docs/python/tf/layers/conv2d), you would want to use the TF Neural Network version of `conv2d`, [tf.nn.conv2d](https://www.tensorflow.org/api_docs/python/tf/nn/conv2d). \n",
    "\n",
    "Let's begin!\n",
    "\n",
    "### Input\n",
    "The neural network needs to read the image data, one-hot encoded labels, and dropout keep probability. Implement the following functions\n",
    "* Implement `neural_net_image_input`\n",
    " * Return a [TF Placeholder](https://www.tensorflow.org/api_docs/python/tf/placeholder)\n",
    " * Set the shape using `image_shape` with batch size set to `None`.\n",
    " * Name the TensorFlow placeholder \"x\" using the TensorFlow `name` parameter in the [TF Placeholder](https://www.tensorflow.org/api_docs/python/tf/placeholder).\n",
    "* Implement `neural_net_label_input`\n",
    " * Return a [TF Placeholder](https://www.tensorflow.org/api_docs/python/tf/placeholder)\n",
    " * Set the shape using `n_classes` with batch size set to `None`.\n",
    " * Name the TensorFlow placeholder \"y\" using the TensorFlow `name` parameter in the [TF Placeholder](https://www.tensorflow.org/api_docs/python/tf/placeholder).\n",
    "* Implement `neural_net_keep_prob_input`\n",
    " * Return a [TF Placeholder](https://www.tensorflow.org/api_docs/python/tf/placeholder) for dropout keep probability.\n",
    " * Name the TensorFlow placeholder \"keep_prob\" using the TensorFlow `name` parameter in the [TF Placeholder](https://www.tensorflow.org/api_docs/python/tf/placeholder).\n",
    "\n",
    "These names will be used at the end of the project to load your saved model.\n",
    "\n",
    "Note: `None` for shapes in TensorFlow allow for a dynamic size."
   ]
  },
  {
   "cell_type": "code",
   "execution_count": 35,
   "metadata": {
    "collapsed": false,
    "deletable": true,
    "editable": true
   },
   "outputs": [
    {
     "name": "stdout",
     "output_type": "stream",
     "text": [
      "Image Input Tests Passed.\n",
      "Label Input Tests Passed.\n",
      "Keep Prob Tests Passed.\n"
     ]
    }
   ],
   "source": [
    "import tensorflow as tf\n",
    "\n",
    "def neural_net_image_input(image_shape):\n",
    "    \"\"\"\n",
    "    Return a Tensor for a bach of image input\n",
    "    : image_shape: Shape of the images\n",
    "    : return: Tensor for image input.\n",
    "    \"\"\"\n",
    "    return tf.placeholder(tf.float32, [None, *image_shape], name='x')\n",
    "\n",
    "\n",
    "def neural_net_label_input(n_classes):\n",
    "    \"\"\"\n",
    "    Return a Tensor for a batch of label input\n",
    "    : n_classes: Number of classes\n",
    "    : return: Tensor for label input.\n",
    "    \"\"\"\n",
    "    return tf.placeholder(tf.float32, [None, n_classes], name='y')\n",
    "\n",
    "\n",
    "def neural_net_keep_prob_input():\n",
    "    \"\"\"\n",
    "    Return a Tensor for keep probability\n",
    "    : return: Tensor for keep probability.\n",
    "    \"\"\"\n",
    "    return tf.placeholder(tf.float32, name='keep_prob')\n",
    "\n",
    "\n",
    "\"\"\"\n",
    "DON'T MODIFY ANYTHING IN THIS CELL THAT IS BELOW THIS LINE\n",
    "\"\"\"\n",
    "tf.reset_default_graph()\n",
    "tests.test_nn_image_inputs(neural_net_image_input)\n",
    "tests.test_nn_label_inputs(neural_net_label_input)\n",
    "tests.test_nn_keep_prob_inputs(neural_net_keep_prob_input)"
   ]
  },
  {
   "cell_type": "markdown",
   "metadata": {
    "deletable": true,
    "editable": true
   },
   "source": [
    "### Convolution and Max Pooling Layer\n",
    "Convolution layers have a lot of success with images. For this code cell, you should implement the function `conv2d_maxpool` to apply convolution then max pooling:\n",
    "* Create the weight and bias using `conv_ksize`, `conv_num_outputs` and the shape of `x_tensor`.\n",
    "* Apply a convolution to `x_tensor` using weight and `conv_strides`.\n",
    " * We recommend you use same padding, but you're welcome to use any padding.\n",
    "* Add bias\n",
    "* Add a nonlinear activation to the convolution.\n",
    "* Apply Max Pooling using `pool_ksize` and `pool_strides`.\n",
    " * We recommend you use same padding, but you're welcome to use any padding.\n",
    "\n",
    "**Note:** You **can't** use [TensorFlow Layers](https://www.tensorflow.org/api_docs/python/tf/layers) or [TensorFlow Layers (contrib)](https://www.tensorflow.org/api_guides/python/contrib.layers) for **this** layer, but you can still use TensorFlow's [Neural Network](https://www.tensorflow.org/api_docs/python/tf/nn) package. You may still use the shortcut option for all the **other** layers."
   ]
  },
  {
   "cell_type": "code",
   "execution_count": 63,
   "metadata": {
    "collapsed": false,
    "deletable": true,
    "editable": true
   },
   "outputs": [
    {
     "name": "stdout",
     "output_type": "stream",
     "text": [
      "Tests Passed\n"
     ]
    }
   ],
   "source": [
    "def conv2d_maxpool(x_tensor, conv_num_outputs, conv_ksize, conv_strides, pool_ksize, pool_strides):\n",
    "    \"\"\"\n",
    "    Apply convolution then max pooling to x_tensor\n",
    "    :param x_tensor: TensorFlow Tensor\n",
    "    :param conv_num_outputs: Number of outputs for the convolutional layer\n",
    "    :param conv_ksize: kernal size 2-D Tuple for the convolutional layer\n",
    "    :param conv_strides: Stride 2-D Tuple for convolution\n",
    "    :param pool_ksize: kernal size 2-D Tuple for pool\n",
    "    :param pool_strides: Stride 2-D Tuple for pool\n",
    "    : return: A tensor that represents convolution and max pooling of x_tensor\n",
    "    \"\"\"\n",
    "    in_depth = int(x_tensor.shape[3])\n",
    "    out_depth = conv_num_outputs    \n",
    "    w_shape = [*conv_ksize, in_depth, out_depth]\n",
    "    w = tf.Variable(tf.random_normal(w_shape, stddev=0.1))\n",
    "    b = tf.Variable(tf.zeros(out_depth))\n",
    "    \n",
    "    conv_strides = [1, *conv_strides, 1]\n",
    "    x = tf.nn.conv2d(x_tensor, w, strides=conv_strides, padding='SAME')\n",
    "    \n",
    "    x = tf.nn.bias_add(x, b)\n",
    "    x = tf.nn.relu(x)\n",
    "    \n",
    "    pool_ksize = [1, *pool_ksize, 1]\n",
    "    pool_strides = [1, *pool_strides, 1]\n",
    "    \n",
    "    return tf.nn.max_pool(x, pool_ksize, pool_strides, padding='SAME') \n",
    "\n",
    "\n",
    "\"\"\"\n",
    "DON'T MODIFY ANYTHING IN THIS CELL THAT IS BELOW THIS LINE\n",
    "\"\"\"\n",
    "tests.test_con_pool(conv2d_maxpool)"
   ]
  },
  {
   "cell_type": "markdown",
   "metadata": {
    "deletable": true,
    "editable": true
   },
   "source": [
    "### Flatten Layer\n",
    "Implement the `flatten` function to change the dimension of `x_tensor` from a 4-D tensor to a 2-D tensor.  The output should be the shape (*Batch Size*, *Flattened Image Size*). Shortcut option: you can use classes from the [TensorFlow Layers](https://www.tensorflow.org/api_docs/python/tf/layers) or [TensorFlow Layers (contrib)](https://www.tensorflow.org/api_guides/python/contrib.layers) packages for this layer. For more of a challenge, only use other TensorFlow packages."
   ]
  },
  {
   "cell_type": "code",
   "execution_count": 64,
   "metadata": {
    "collapsed": false,
    "deletable": true,
    "editable": true
   },
   "outputs": [
    {
     "name": "stdout",
     "output_type": "stream",
     "text": [
      "Tests Passed\n"
     ]
    }
   ],
   "source": [
    "def flatten(x_tensor):\n",
    "    \"\"\"\n",
    "    Flatten x_tensor to (Batch Size, Flattened Image Size)\n",
    "    : x_tensor: A tensor of size (Batch Size, ...), where ... are the image dimensions.\n",
    "    : return: A tensor of size (Batch Size, Flattened Image Size).\n",
    "    \"\"\"\n",
    "    batch_size, *img_size = x_tensor.get_shape().as_list()\n",
    "    img_size = img_size[0] * img_size[1] * img_size[2]\n",
    "    \n",
    "    return tf.reshape(x_tensor, [-1, img_size])\n",
    "\n",
    "\n",
    "\"\"\"\n",
    "DON'T MODIFY ANYTHING IN THIS CELL THAT IS BELOW THIS LINE\n",
    "\"\"\"\n",
    "tests.test_flatten(flatten)"
   ]
  },
  {
   "cell_type": "markdown",
   "metadata": {
    "deletable": true,
    "editable": true
   },
   "source": [
    "### Fully-Connected Layer\n",
    "Implement the `fully_conn` function to apply a fully connected layer to `x_tensor` with the shape (*Batch Size*, *num_outputs*). Shortcut option: you can use classes from the [TensorFlow Layers](https://www.tensorflow.org/api_docs/python/tf/layers) or [TensorFlow Layers (contrib)](https://www.tensorflow.org/api_guides/python/contrib.layers) packages for this layer. For more of a challenge, only use other TensorFlow packages."
   ]
  },
  {
   "cell_type": "code",
   "execution_count": 65,
   "metadata": {
    "collapsed": false,
    "deletable": true,
    "editable": true
   },
   "outputs": [
    {
     "name": "stdout",
     "output_type": "stream",
     "text": [
      "Tests Passed\n"
     ]
    }
   ],
   "source": [
    "def fully_conn(x_tensor, num_outputs):\n",
    "    \"\"\"\n",
    "    Apply a fully connected layer to x_tensor using weight and bias\n",
    "    : x_tensor: A 2-D tensor where the first dimension is batch size.\n",
    "    : num_outputs: The number of output that the new tensor should be.\n",
    "    : return: A 2-D tensor where the second dimension is num_outputs.\n",
    "    \"\"\"\n",
    "    w_shape = (int(x_tensor.get_shape().as_list()[1]), num_outputs)\n",
    "    w = tf.Variable(tf.random_normal(w_shape, stddev=0.1))\n",
    "    b = tf.Variable(tf.zeros(num_outputs))\n",
    "    x = tf.add(tf.matmul(x_tensor, w), b)\n",
    "    x = tf.nn.relu(x)\n",
    "    \n",
    "    return x\n",
    "\n",
    "\n",
    "\"\"\"\n",
    "DON'T MODIFY ANYTHING IN THIS CELL THAT IS BELOW THIS LINE\n",
    "\"\"\"\n",
    "tests.test_fully_conn(fully_conn)"
   ]
  },
  {
   "cell_type": "markdown",
   "metadata": {
    "deletable": true,
    "editable": true
   },
   "source": [
    "### Output Layer\n",
    "Implement the `output` function to apply a fully connected layer to `x_tensor` with the shape (*Batch Size*, *num_outputs*). Shortcut option: you can use classes from the [TensorFlow Layers](https://www.tensorflow.org/api_docs/python/tf/layers) or [TensorFlow Layers (contrib)](https://www.tensorflow.org/api_guides/python/contrib.layers) packages for this layer. For more of a challenge, only use other TensorFlow packages.\n",
    "\n",
    "**Note:** Activation, softmax, or cross entropy should **not** be applied to this."
   ]
  },
  {
   "cell_type": "code",
   "execution_count": 66,
   "metadata": {
    "collapsed": false,
    "deletable": true,
    "editable": true
   },
   "outputs": [
    {
     "name": "stdout",
     "output_type": "stream",
     "text": [
      "Tests Passed\n"
     ]
    }
   ],
   "source": [
    "def output(x_tensor, num_outputs):\n",
    "    \"\"\"\n",
    "    Apply a output layer to x_tensor using weight and bias\n",
    "    : x_tensor: A 2-D tensor where the first dimension is batch size.\n",
    "    : num_outputs: The number of output that the new tensor should be.\n",
    "    : return: A 2-D tensor where the second dimension is num_outputs.\n",
    "    \"\"\"\n",
    "    w_shape = [int(x_tensor.get_shape().as_list()[1]), num_outputs]\n",
    "    w = tf.Variable(tf.random_normal(w_shape, stddev=0.1))\n",
    "    b = tf.Variable(tf.zeros(num_outputs))\n",
    "    x = tf.add(tf.matmul(x_tensor, w), b)\n",
    "    \n",
    "    return x\n",
    "\n",
    "\n",
    "\"\"\"\n",
    "DON'T MODIFY ANYTHING IN THIS CELL THAT IS BELOW THIS LINE\n",
    "\"\"\"\n",
    "tests.test_output(output)"
   ]
  },
  {
   "cell_type": "markdown",
   "metadata": {
    "deletable": true,
    "editable": true
   },
   "source": [
    "### Create Convolutional Model\n",
    "Implement the function `conv_net` to create a convolutional neural network model. The function takes in a batch of images, `x`, and outputs logits.  Use the layers you created above to create this model:\n",
    "\n",
    "* Apply 1, 2, or 3 Convolution and Max Pool layers\n",
    "* Apply a Flatten Layer\n",
    "* Apply 1, 2, or 3 Fully Connected Layers\n",
    "* Apply an Output Layer\n",
    "* Return the output\n",
    "* Apply [TensorFlow's Dropout](https://www.tensorflow.org/api_docs/python/tf/nn/dropout) to one or more layers in the model using `keep_prob`. "
   ]
  },
  {
   "cell_type": "code",
   "execution_count": 78,
   "metadata": {
    "collapsed": false,
    "deletable": true,
    "editable": true
   },
   "outputs": [
    {
     "name": "stdout",
     "output_type": "stream",
     "text": [
      "Neural Network Built!\n"
     ]
    }
   ],
   "source": [
    "def conv_net(x, keep_prob):\n",
    "    \"\"\"\n",
    "    Create a convolutional neural network model\n",
    "    : x: Placeholder tensor that holds image data.\n",
    "    : keep_prob: Placeholder tensor that hold dropout keep probability.\n",
    "    : return: Tensor that represents logits\n",
    "    \"\"\"\n",
    "    # TODO: Apply 1, 2, or 3 Convolution and Max Pool layers\n",
    "    #    Play around with different number of outputs, kernel size and stride\n",
    "    # Function Definition from Above:\n",
    "    #    conv2d_maxpool(x_tensor, conv_num_outputs, conv_ksize, conv_strides, pool_ksize, pool_strides)\n",
    "    x = conv2d_maxpool(x, 32, (4, 4), (1, 1), (2, 2), (2, 2))\n",
    "    x = conv2d_maxpool(x, 32, (4, 4), (2, 2), (2, 2), (2, 2))\n",
    "    x = conv2d_maxpool(x, 128, (4, 4), (1, 1), (2, 2), (2, 2))\n",
    "\n",
    "    # TODO: Apply a Flatten Layer\n",
    "    # Function Definition from Above:\n",
    "    #   flatten(x_tensor)\n",
    "    x = flatten(x)\n",
    "    \n",
    "\n",
    "    # TODO: Apply 1, 2, or 3 Fully Connected Layers\n",
    "    #    Play around with different number of outputs\n",
    "    # Function Definition from Above:\n",
    "    #   fully_conn(x_tensor, num_outputs)\n",
    "    x = fully_conn(x, 512)\n",
    "    x = tf.nn.dropout(x, keep_prob)\n",
    "    x = fully_conn(x, 128)\n",
    "    x = tf.nn.dropout(x, keep_prob)\n",
    "    \n",
    "    \n",
    "    # TODO: Apply an Output Layer\n",
    "    #    Set this to the number of classes\n",
    "    # Function Definition from Above:\n",
    "    #   output(x_tensor, num_outputs)\n",
    "    out = output(x, 10)\n",
    "    \n",
    "    \n",
    "    # TODO: return output\n",
    "    return out\n",
    "\n",
    "\n",
    "\"\"\"\n",
    "DON'T MODIFY ANYTHING IN THIS CELL THAT IS BELOW THIS LINE\n",
    "\"\"\"\n",
    "\n",
    "##############################\n",
    "## Build the Neural Network ##\n",
    "##############################\n",
    "\n",
    "# Remove previous weights, bias, inputs, etc..\n",
    "tf.reset_default_graph()\n",
    "\n",
    "# Inputs\n",
    "x = neural_net_image_input((32, 32, 3))\n",
    "y = neural_net_label_input(10)\n",
    "keep_prob = neural_net_keep_prob_input()\n",
    "\n",
    "# Model\n",
    "logits = conv_net(x, keep_prob)\n",
    "\n",
    "# Name logits Tensor, so that is can be loaded from disk after training\n",
    "logits = tf.identity(logits, name='logits')\n",
    "\n",
    "# Loss and Optimizer\n",
    "cost = tf.reduce_mean(tf.nn.softmax_cross_entropy_with_logits(logits=logits, labels=y))\n",
    "optimizer = tf.train.AdamOptimizer().minimize(cost)\n",
    "\n",
    "# Accuracy\n",
    "correct_pred = tf.equal(tf.argmax(logits, 1), tf.argmax(y, 1))\n",
    "accuracy = tf.reduce_mean(tf.cast(correct_pred, tf.float32), name='accuracy')\n",
    "\n",
    "tests.test_conv_net(conv_net)"
   ]
  },
  {
   "cell_type": "markdown",
   "metadata": {
    "deletable": true,
    "editable": true
   },
   "source": [
    "## Train the Neural Network\n",
    "### Single Optimization\n",
    "Implement the function `train_neural_network` to do a single optimization.  The optimization should use `optimizer` to optimize in `session` with a `feed_dict` of the following:\n",
    "* `x` for image input\n",
    "* `y` for labels\n",
    "* `keep_prob` for keep probability for dropout\n",
    "\n",
    "This function will be called for each batch, so `tf.global_variables_initializer()` has already been called.\n",
    "\n",
    "Note: Nothing needs to be returned. This function is only optimizing the neural network."
   ]
  },
  {
   "cell_type": "code",
   "execution_count": 79,
   "metadata": {
    "collapsed": false,
    "deletable": true,
    "editable": true
   },
   "outputs": [
    {
     "name": "stdout",
     "output_type": "stream",
     "text": [
      "Tests Passed\n"
     ]
    }
   ],
   "source": [
    "def train_neural_network(session, optimizer, keep_probability, feature_batch, label_batch):\n",
    "    \"\"\"\n",
    "    Optimize the session on a batch of images and labels\n",
    "    : session: Current TensorFlow session\n",
    "    : optimizer: TensorFlow optimizer function\n",
    "    : keep_probability: keep probability\n",
    "    : feature_batch: Batch of Numpy image data\n",
    "    : label_batch: Batch of Numpy label data\n",
    "    \"\"\"\n",
    "    session.run(optimizer, feed_dict={\n",
    "        x: feature_batch,\n",
    "        y: label_batch,\n",
    "        keep_prob: keep_probability\n",
    "    })\n",
    "\n",
    "\n",
    "\"\"\"\n",
    "DON'T MODIFY ANYTHING IN THIS CELL THAT IS BELOW THIS LINE\n",
    "\"\"\"\n",
    "tests.test_train_nn(train_neural_network)"
   ]
  },
  {
   "cell_type": "markdown",
   "metadata": {
    "deletable": true,
    "editable": true
   },
   "source": [
    "### Show Stats\n",
    "Implement the function `print_stats` to print loss and validation accuracy.  Use the global variables `valid_features` and `valid_labels` to calculate validation accuracy.  Use a keep probability of `1.0` to calculate the loss and validation accuracy."
   ]
  },
  {
   "cell_type": "code",
   "execution_count": 80,
   "metadata": {
    "collapsed": false,
    "deletable": true,
    "editable": true
   },
   "outputs": [],
   "source": [
    "def print_stats(session, feature_batch, label_batch, cost, accuracy):\n",
    "    \"\"\"\n",
    "    Print information about loss and validation accuracy\n",
    "    : session: Current TensorFlow session\n",
    "    : feature_batch: Batch of Numpy image data\n",
    "    : label_batch: Batch of Numpy label data\n",
    "    : cost: TensorFlow cost function\n",
    "    : accuracy: TensorFlow accuracy function\n",
    "    \"\"\"\n",
    "    loss = session.run(cost, feed_dict={\n",
    "        x: feature_batch,\n",
    "        y: label_batch,\n",
    "        keep_prob: 1.\n",
    "    })\n",
    "    \n",
    "    validation_accuracy = session.run(accuracy, feed_dict={\n",
    "        x: valid_features,\n",
    "        y: valid_labels,\n",
    "        keep_prob: 1.\n",
    "    })\n",
    "\n",
    "    print('loss: {:>10.4f}     |    validation_accuracy: {:.6f}'.format(loss, validation_accuracy))"
   ]
  },
  {
   "cell_type": "markdown",
   "metadata": {
    "deletable": true,
    "editable": true
   },
   "source": [
    "### Hyperparameters\n",
    "Tune the following parameters:\n",
    "* Set `epochs` to the number of iterations until the network stops learning or start overfitting\n",
    "* Set `batch_size` to the highest number that your machine has memory for.  Most people set them to common sizes of memory:\n",
    " * 64\n",
    " * 128\n",
    " * 256\n",
    " * ...\n",
    "* Set `keep_probability` to the probability of keeping a node using dropout"
   ]
  },
  {
   "cell_type": "code",
   "execution_count": 81,
   "metadata": {
    "collapsed": true,
    "deletable": true,
    "editable": true
   },
   "outputs": [],
   "source": [
    "# TODO: Tune Parameters\n",
    "epochs = 60\n",
    "batch_size = 512\n",
    "keep_probability = 0.6"
   ]
  },
  {
   "cell_type": "markdown",
   "metadata": {
    "deletable": true,
    "editable": true
   },
   "source": [
    "### Train on a Single CIFAR-10 Batch\n",
    "Instead of training the neural network on all the CIFAR-10 batches of data, let's use a single batch. This should save time while you iterate on the model to get a better accuracy.  Once the final validation accuracy is 50% or greater, run the model on all the data in the next section."
   ]
  },
  {
   "cell_type": "code",
   "execution_count": 82,
   "metadata": {
    "collapsed": false,
    "deletable": true,
    "editable": true
   },
   "outputs": [
    {
     "name": "stdout",
     "output_type": "stream",
     "text": [
      "Checking the Training on a Single Batch...\n",
      "Epoch  1, CIFAR-10 Batch 1:  loss:     2.2498     |    validation_accuracy: 0.180800\n",
      "Epoch  2, CIFAR-10 Batch 1:  loss:     2.0596     |    validation_accuracy: 0.265600\n",
      "Epoch  3, CIFAR-10 Batch 1:  loss:     1.9239     |    validation_accuracy: 0.331800\n",
      "Epoch  4, CIFAR-10 Batch 1:  loss:     1.7961     |    validation_accuracy: 0.357000\n",
      "Epoch  5, CIFAR-10 Batch 1:  loss:     1.7118     |    validation_accuracy: 0.384200\n",
      "Epoch  6, CIFAR-10 Batch 1:  loss:     1.6436     |    validation_accuracy: 0.396600\n",
      "Epoch  7, CIFAR-10 Batch 1:  loss:     1.5617     |    validation_accuracy: 0.417200\n",
      "Epoch  8, CIFAR-10 Batch 1:  loss:     1.4962     |    validation_accuracy: 0.448400\n",
      "Epoch  9, CIFAR-10 Batch 1:  loss:     1.3974     |    validation_accuracy: 0.463400\n",
      "Epoch 10, CIFAR-10 Batch 1:  loss:     1.3477     |    validation_accuracy: 0.468400\n",
      "Epoch 11, CIFAR-10 Batch 1:  loss:     1.2799     |    validation_accuracy: 0.489200\n",
      "Epoch 12, CIFAR-10 Batch 1:  loss:     1.2410     |    validation_accuracy: 0.491800\n",
      "Epoch 13, CIFAR-10 Batch 1:  loss:     1.1806     |    validation_accuracy: 0.492400\n",
      "Epoch 14, CIFAR-10 Batch 1:  loss:     1.1228     |    validation_accuracy: 0.510800\n",
      "Epoch 15, CIFAR-10 Batch 1:  loss:     1.0508     |    validation_accuracy: 0.512200\n",
      "Epoch 16, CIFAR-10 Batch 1:  loss:     1.0480     |    validation_accuracy: 0.509000\n",
      "Epoch 17, CIFAR-10 Batch 1:  loss:     1.0474     |    validation_accuracy: 0.488400\n",
      "Epoch 18, CIFAR-10 Batch 1:  loss:     0.9096     |    validation_accuracy: 0.520800\n",
      "Epoch 19, CIFAR-10 Batch 1:  loss:     0.8645     |    validation_accuracy: 0.520600\n",
      "Epoch 20, CIFAR-10 Batch 1:  loss:     0.8295     |    validation_accuracy: 0.528600\n",
      "Epoch 21, CIFAR-10 Batch 1:  loss:     0.7907     |    validation_accuracy: 0.535800\n",
      "Epoch 22, CIFAR-10 Batch 1:  loss:     0.7498     |    validation_accuracy: 0.531800\n",
      "Epoch 23, CIFAR-10 Batch 1:  loss:     0.7225     |    validation_accuracy: 0.535600\n",
      "Epoch 24, CIFAR-10 Batch 1:  loss:     0.6633     |    validation_accuracy: 0.537200\n",
      "Epoch 25, CIFAR-10 Batch 1:  loss:     0.6233     |    validation_accuracy: 0.540200\n",
      "Epoch 26, CIFAR-10 Batch 1:  loss:     0.6262     |    validation_accuracy: 0.531000\n",
      "Epoch 27, CIFAR-10 Batch 1:  loss:     0.5827     |    validation_accuracy: 0.528200\n",
      "Epoch 28, CIFAR-10 Batch 1:  loss:     0.5364     |    validation_accuracy: 0.535800\n",
      "Epoch 29, CIFAR-10 Batch 1:  loss:     0.5651     |    validation_accuracy: 0.524400\n",
      "Epoch 30, CIFAR-10 Batch 1:  loss:     0.5105     |    validation_accuracy: 0.540400\n",
      "Epoch 31, CIFAR-10 Batch 1:  loss:     0.4870     |    validation_accuracy: 0.528400\n",
      "Epoch 32, CIFAR-10 Batch 1:  loss:     0.4485     |    validation_accuracy: 0.537000\n",
      "Epoch 33, CIFAR-10 Batch 1:  loss:     0.4110     |    validation_accuracy: 0.541800\n",
      "Epoch 34, CIFAR-10 Batch 1:  loss:     0.3924     |    validation_accuracy: 0.538000\n",
      "Epoch 35, CIFAR-10 Batch 1:  loss:     0.3751     |    validation_accuracy: 0.535200\n",
      "Epoch 36, CIFAR-10 Batch 1:  loss:     0.3349     |    validation_accuracy: 0.541800\n",
      "Epoch 37, CIFAR-10 Batch 1:  loss:     0.3900     |    validation_accuracy: 0.522800\n",
      "Epoch 38, CIFAR-10 Batch 1:  loss:     0.3137     |    validation_accuracy: 0.549800\n",
      "Epoch 39, CIFAR-10 Batch 1:  loss:     0.3118     |    validation_accuracy: 0.551800\n",
      "Epoch 40, CIFAR-10 Batch 1:  loss:     0.2576     |    validation_accuracy: 0.555200\n",
      "Epoch 41, CIFAR-10 Batch 1:  loss:     0.2800     |    validation_accuracy: 0.538600\n",
      "Epoch 42, CIFAR-10 Batch 1:  loss:     0.2857     |    validation_accuracy: 0.534600\n",
      "Epoch 43, CIFAR-10 Batch 1:  loss:     0.2291     |    validation_accuracy: 0.548800\n",
      "Epoch 44, CIFAR-10 Batch 1:  loss:     0.1820     |    validation_accuracy: 0.553000\n",
      "Epoch 45, CIFAR-10 Batch 1:  loss:     0.1597     |    validation_accuracy: 0.540800\n",
      "Epoch 46, CIFAR-10 Batch 1:  loss:     0.1560     |    validation_accuracy: 0.543200\n",
      "Epoch 47, CIFAR-10 Batch 1:  loss:     0.1492     |    validation_accuracy: 0.549600\n",
      "Epoch 48, CIFAR-10 Batch 1:  loss:     0.1410     |    validation_accuracy: 0.539200\n",
      "Epoch 49, CIFAR-10 Batch 1:  loss:     0.1775     |    validation_accuracy: 0.514200\n",
      "Epoch 50, CIFAR-10 Batch 1:  loss:     0.1910     |    validation_accuracy: 0.511000\n",
      "Epoch 51, CIFAR-10 Batch 1:  loss:     0.1342     |    validation_accuracy: 0.540200\n",
      "Epoch 52, CIFAR-10 Batch 1:  loss:     0.1123     |    validation_accuracy: 0.539600\n",
      "Epoch 53, CIFAR-10 Batch 1:  loss:     0.0956     |    validation_accuracy: 0.549800\n",
      "Epoch 54, CIFAR-10 Batch 1:  loss:     0.0936     |    validation_accuracy: 0.538200\n",
      "Epoch 55, CIFAR-10 Batch 1:  loss:     0.0993     |    validation_accuracy: 0.523200\n",
      "Epoch 56, CIFAR-10 Batch 1:  loss:     0.0960     |    validation_accuracy: 0.521600\n",
      "Epoch 57, CIFAR-10 Batch 1:  loss:     0.0578     |    validation_accuracy: 0.545000\n",
      "Epoch 58, CIFAR-10 Batch 1:  loss:     0.0488     |    validation_accuracy: 0.554200\n",
      "Epoch 59, CIFAR-10 Batch 1:  loss:     0.0371     |    validation_accuracy: 0.555800\n",
      "Epoch 60, CIFAR-10 Batch 1:  loss:     0.0310     |    validation_accuracy: 0.549800\n"
     ]
    }
   ],
   "source": [
    "\"\"\"\n",
    "DON'T MODIFY ANYTHING IN THIS CELL\n",
    "\"\"\"\n",
    "print('Checking the Training on a Single Batch...')\n",
    "with tf.Session() as sess:\n",
    "    # Initializing the variables\n",
    "    sess.run(tf.global_variables_initializer())\n",
    "    \n",
    "    # Training cycle\n",
    "    for epoch in range(epochs):\n",
    "        batch_i = 1\n",
    "        for batch_features, batch_labels in helper.load_preprocess_training_batch(batch_i, batch_size):\n",
    "            train_neural_network(sess, optimizer, keep_probability, batch_features, batch_labels)\n",
    "        print('Epoch {:>2}, CIFAR-10 Batch {}:  '.format(epoch + 1, batch_i), end='')\n",
    "        print_stats(sess, batch_features, batch_labels, cost, accuracy)"
   ]
  },
  {
   "cell_type": "markdown",
   "metadata": {
    "deletable": true,
    "editable": true
   },
   "source": [
    "### Fully Train the Model\n",
    "Now that you got a good accuracy with a single CIFAR-10 batch, try it with all five batches."
   ]
  },
  {
   "cell_type": "code",
   "execution_count": 83,
   "metadata": {
    "collapsed": false,
    "deletable": true,
    "editable": true
   },
   "outputs": [
    {
     "name": "stdout",
     "output_type": "stream",
     "text": [
      "Training...\n",
      "Epoch  1, CIFAR-10 Batch 1:  loss:     2.2470     |    validation_accuracy: 0.192600\n",
      "Epoch  1, CIFAR-10 Batch 2:  loss:     2.0767     |    validation_accuracy: 0.273600\n",
      "Epoch  1, CIFAR-10 Batch 3:  loss:     1.9107     |    validation_accuracy: 0.301000\n",
      "Epoch  1, CIFAR-10 Batch 4:  loss:     1.7610     |    validation_accuracy: 0.357600\n",
      "Epoch  1, CIFAR-10 Batch 5:  loss:     1.7463     |    validation_accuracy: 0.378200\n",
      "Epoch  2, CIFAR-10 Batch 1:  loss:     1.6974     |    validation_accuracy: 0.403000\n",
      "Epoch  2, CIFAR-10 Batch 2:  loss:     1.6244     |    validation_accuracy: 0.419200\n",
      "Epoch  2, CIFAR-10 Batch 3:  loss:     1.4029     |    validation_accuracy: 0.437000\n",
      "Epoch  2, CIFAR-10 Batch 4:  loss:     1.4194     |    validation_accuracy: 0.451000\n",
      "Epoch  2, CIFAR-10 Batch 5:  loss:     1.4691     |    validation_accuracy: 0.456600\n",
      "Epoch  3, CIFAR-10 Batch 1:  loss:     1.4960     |    validation_accuracy: 0.461600\n",
      "Epoch  3, CIFAR-10 Batch 2:  loss:     1.4363     |    validation_accuracy: 0.477800\n",
      "Epoch  3, CIFAR-10 Batch 3:  loss:     1.2225     |    validation_accuracy: 0.492800\n",
      "Epoch  3, CIFAR-10 Batch 4:  loss:     1.2856     |    validation_accuracy: 0.490800\n",
      "Epoch  3, CIFAR-10 Batch 5:  loss:     1.3023     |    validation_accuracy: 0.501800\n",
      "Epoch  4, CIFAR-10 Batch 1:  loss:     1.3812     |    validation_accuracy: 0.501800\n",
      "Epoch  4, CIFAR-10 Batch 2:  loss:     1.3380     |    validation_accuracy: 0.504400\n",
      "Epoch  4, CIFAR-10 Batch 3:  loss:     1.1187     |    validation_accuracy: 0.525000\n",
      "Epoch  4, CIFAR-10 Batch 4:  loss:     1.1689     |    validation_accuracy: 0.530000\n",
      "Epoch  4, CIFAR-10 Batch 5:  loss:     1.2017     |    validation_accuracy: 0.520800\n",
      "Epoch  5, CIFAR-10 Batch 1:  loss:     1.2549     |    validation_accuracy: 0.540600\n",
      "Epoch  5, CIFAR-10 Batch 2:  loss:     1.2311     |    validation_accuracy: 0.531200\n",
      "Epoch  5, CIFAR-10 Batch 3:  loss:     1.0409     |    validation_accuracy: 0.544600\n",
      "Epoch  5, CIFAR-10 Batch 4:  loss:     1.0619     |    validation_accuracy: 0.557600\n",
      "Epoch  5, CIFAR-10 Batch 5:  loss:     1.0973     |    validation_accuracy: 0.564000\n",
      "Epoch  6, CIFAR-10 Batch 1:  loss:     1.1733     |    validation_accuracy: 0.559200\n",
      "Epoch  6, CIFAR-10 Batch 2:  loss:     1.1051     |    validation_accuracy: 0.548600\n",
      "Epoch  6, CIFAR-10 Batch 3:  loss:     0.9996     |    validation_accuracy: 0.564000\n",
      "Epoch  6, CIFAR-10 Batch 4:  loss:     0.9813     |    validation_accuracy: 0.573000\n",
      "Epoch  6, CIFAR-10 Batch 5:  loss:     1.0463     |    validation_accuracy: 0.570800\n",
      "Epoch  7, CIFAR-10 Batch 1:  loss:     1.1006     |    validation_accuracy: 0.579600\n",
      "Epoch  7, CIFAR-10 Batch 2:  loss:     1.0521     |    validation_accuracy: 0.566600\n",
      "Epoch  7, CIFAR-10 Batch 3:  loss:     0.9650     |    validation_accuracy: 0.575200\n",
      "Epoch  7, CIFAR-10 Batch 4:  loss:     0.9079     |    validation_accuracy: 0.588600\n",
      "Epoch  7, CIFAR-10 Batch 5:  loss:     0.9374     |    validation_accuracy: 0.590000\n",
      "Epoch  8, CIFAR-10 Batch 1:  loss:     1.0156     |    validation_accuracy: 0.591400\n",
      "Epoch  8, CIFAR-10 Batch 2:  loss:     0.9487     |    validation_accuracy: 0.584000\n",
      "Epoch  8, CIFAR-10 Batch 3:  loss:     0.8804     |    validation_accuracy: 0.583000\n",
      "Epoch  8, CIFAR-10 Batch 4:  loss:     0.8599     |    validation_accuracy: 0.599000\n",
      "Epoch  8, CIFAR-10 Batch 5:  loss:     0.8873     |    validation_accuracy: 0.603000\n",
      "Epoch  9, CIFAR-10 Batch 1:  loss:     0.9098     |    validation_accuracy: 0.603600\n",
      "Epoch  9, CIFAR-10 Batch 2:  loss:     0.9048     |    validation_accuracy: 0.592600\n",
      "Epoch  9, CIFAR-10 Batch 3:  loss:     0.8480     |    validation_accuracy: 0.582400\n",
      "Epoch  9, CIFAR-10 Batch 4:  loss:     0.7786     |    validation_accuracy: 0.612000\n",
      "Epoch  9, CIFAR-10 Batch 5:  loss:     0.8234     |    validation_accuracy: 0.610600\n",
      "Epoch 10, CIFAR-10 Batch 1:  loss:     0.8748     |    validation_accuracy: 0.610600\n",
      "Epoch 10, CIFAR-10 Batch 2:  loss:     0.8327     |    validation_accuracy: 0.611400\n",
      "Epoch 10, CIFAR-10 Batch 3:  loss:     0.7589     |    validation_accuracy: 0.597400\n",
      "Epoch 10, CIFAR-10 Batch 4:  loss:     0.7540     |    validation_accuracy: 0.613200\n",
      "Epoch 10, CIFAR-10 Batch 5:  loss:     0.7662     |    validation_accuracy: 0.631600\n",
      "Epoch 11, CIFAR-10 Batch 1:  loss:     0.8360     |    validation_accuracy: 0.616800\n",
      "Epoch 11, CIFAR-10 Batch 2:  loss:     0.8287     |    validation_accuracy: 0.610400\n",
      "Epoch 11, CIFAR-10 Batch 3:  loss:     0.6941     |    validation_accuracy: 0.625800\n",
      "Epoch 11, CIFAR-10 Batch 4:  loss:     0.7201     |    validation_accuracy: 0.617400\n",
      "Epoch 11, CIFAR-10 Batch 5:  loss:     0.7328     |    validation_accuracy: 0.634800\n",
      "Epoch 12, CIFAR-10 Batch 1:  loss:     0.7632     |    validation_accuracy: 0.630400\n",
      "Epoch 12, CIFAR-10 Batch 2:  loss:     0.7421     |    validation_accuracy: 0.631000\n",
      "Epoch 12, CIFAR-10 Batch 3:  loss:     0.6316     |    validation_accuracy: 0.630400\n",
      "Epoch 12, CIFAR-10 Batch 4:  loss:     0.6738     |    validation_accuracy: 0.627200\n",
      "Epoch 12, CIFAR-10 Batch 5:  loss:     0.6906     |    validation_accuracy: 0.636800\n",
      "Epoch 13, CIFAR-10 Batch 1:  loss:     0.7145     |    validation_accuracy: 0.641600\n",
      "Epoch 13, CIFAR-10 Batch 2:  loss:     0.7004     |    validation_accuracy: 0.622600\n",
      "Epoch 13, CIFAR-10 Batch 3:  loss:     0.5910     |    validation_accuracy: 0.635800\n",
      "Epoch 13, CIFAR-10 Batch 4:  loss:     0.5941     |    validation_accuracy: 0.634200\n",
      "Epoch 13, CIFAR-10 Batch 5:  loss:     0.6600     |    validation_accuracy: 0.638400\n",
      "Epoch 14, CIFAR-10 Batch 1:  loss:     0.6863     |    validation_accuracy: 0.636400\n",
      "Epoch 14, CIFAR-10 Batch 2:  loss:     0.6769     |    validation_accuracy: 0.623200\n",
      "Epoch 14, CIFAR-10 Batch 3:  loss:     0.5970     |    validation_accuracy: 0.626800\n",
      "Epoch 14, CIFAR-10 Batch 4:  loss:     0.5894     |    validation_accuracy: 0.635800\n",
      "Epoch 14, CIFAR-10 Batch 5:  loss:     0.6072     |    validation_accuracy: 0.641400\n",
      "Epoch 15, CIFAR-10 Batch 1:  loss:     0.6237     |    validation_accuracy: 0.634200\n",
      "Epoch 15, CIFAR-10 Batch 2:  loss:     0.6055     |    validation_accuracy: 0.632400\n",
      "Epoch 15, CIFAR-10 Batch 3:  loss:     0.5305     |    validation_accuracy: 0.651600\n",
      "Epoch 15, CIFAR-10 Batch 4:  loss:     0.5510     |    validation_accuracy: 0.640600\n",
      "Epoch 15, CIFAR-10 Batch 5:  loss:     0.5698     |    validation_accuracy: 0.649200\n",
      "Epoch 16, CIFAR-10 Batch 1:  loss:     0.5835     |    validation_accuracy: 0.634200\n",
      "Epoch 16, CIFAR-10 Batch 2:  loss:     0.6136     |    validation_accuracy: 0.635000\n",
      "Epoch 16, CIFAR-10 Batch 3:  loss:     0.4987     |    validation_accuracy: 0.653600\n",
      "Epoch 16, CIFAR-10 Batch 4:  loss:     0.5117     |    validation_accuracy: 0.648800\n",
      "Epoch 16, CIFAR-10 Batch 5:  loss:     0.5157     |    validation_accuracy: 0.660400\n",
      "Epoch 17, CIFAR-10 Batch 1:  loss:     0.5260     |    validation_accuracy: 0.649600\n",
      "Epoch 17, CIFAR-10 Batch 2:  loss:     0.5487     |    validation_accuracy: 0.634200\n",
      "Epoch 17, CIFAR-10 Batch 3:  loss:     0.4594     |    validation_accuracy: 0.657400\n",
      "Epoch 17, CIFAR-10 Batch 4:  loss:     0.4745     |    validation_accuracy: 0.650800\n",
      "Epoch 17, CIFAR-10 Batch 5:  loss:     0.4999     |    validation_accuracy: 0.670600\n",
      "Epoch 18, CIFAR-10 Batch 1:  loss:     0.5102     |    validation_accuracy: 0.637000\n",
      "Epoch 18, CIFAR-10 Batch 2:  loss:     0.5199     |    validation_accuracy: 0.640800\n",
      "Epoch 18, CIFAR-10 Batch 3:  loss:     0.4057     |    validation_accuracy: 0.660600\n",
      "Epoch 18, CIFAR-10 Batch 4:  loss:     0.4112     |    validation_accuracy: 0.659200\n",
      "Epoch 18, CIFAR-10 Batch 5:  loss:     0.4592     |    validation_accuracy: 0.664800\n",
      "Epoch 19, CIFAR-10 Batch 1:  loss:     0.4498     |    validation_accuracy: 0.658800\n",
      "Epoch 19, CIFAR-10 Batch 2:  loss:     0.4697     |    validation_accuracy: 0.649600\n",
      "Epoch 19, CIFAR-10 Batch 3:  loss:     0.3980     |    validation_accuracy: 0.655000\n",
      "Epoch 19, CIFAR-10 Batch 4:  loss:     0.3940     |    validation_accuracy: 0.663600\n",
      "Epoch 19, CIFAR-10 Batch 5:  loss:     0.3940     |    validation_accuracy: 0.669200\n",
      "Epoch 20, CIFAR-10 Batch 1:  loss:     0.4371     |    validation_accuracy: 0.658000\n",
      "Epoch 20, CIFAR-10 Batch 2:  loss:     0.4532     |    validation_accuracy: 0.656000\n",
      "Epoch 20, CIFAR-10 Batch 3:  loss:     0.3678     |    validation_accuracy: 0.661000\n",
      "Epoch 20, CIFAR-10 Batch 4:  loss:     0.3623     |    validation_accuracy: 0.669400\n",
      "Epoch 20, CIFAR-10 Batch 5:  loss:     0.3901     |    validation_accuracy: 0.657000\n",
      "Epoch 21, CIFAR-10 Batch 1:  loss:     0.4106     |    validation_accuracy: 0.655000\n",
      "Epoch 21, CIFAR-10 Batch 2:  loss:     0.4002     |    validation_accuracy: 0.654600\n",
      "Epoch 21, CIFAR-10 Batch 3:  loss:     0.3707     |    validation_accuracy: 0.647600\n",
      "Epoch 21, CIFAR-10 Batch 4:  loss:     0.3639     |    validation_accuracy: 0.665800\n",
      "Epoch 21, CIFAR-10 Batch 5:  loss:     0.3404     |    validation_accuracy: 0.667400\n",
      "Epoch 22, CIFAR-10 Batch 1:  loss:     0.4012     |    validation_accuracy: 0.663000\n",
      "Epoch 22, CIFAR-10 Batch 2:  loss:     0.4008     |    validation_accuracy: 0.644400\n",
      "Epoch 22, CIFAR-10 Batch 3:  loss:     0.3752     |    validation_accuracy: 0.647200\n",
      "Epoch 22, CIFAR-10 Batch 4:  loss:     0.3820     |    validation_accuracy: 0.644800\n",
      "Epoch 22, CIFAR-10 Batch 5:  loss:     0.3375     |    validation_accuracy: 0.675000\n",
      "Epoch 23, CIFAR-10 Batch 1:  loss:     0.3662     |    validation_accuracy: 0.667200\n",
      "Epoch 23, CIFAR-10 Batch 2:  loss:     0.3518     |    validation_accuracy: 0.646600\n",
      "Epoch 23, CIFAR-10 Batch 3:  loss:     0.3180     |    validation_accuracy: 0.654800\n",
      "Epoch 23, CIFAR-10 Batch 4:  loss:     0.3623     |    validation_accuracy: 0.642200\n",
      "Epoch 23, CIFAR-10 Batch 5:  loss:     0.3222     |    validation_accuracy: 0.661000\n",
      "Epoch 24, CIFAR-10 Batch 1:  loss:     0.3401     |    validation_accuracy: 0.669000\n",
      "Epoch 24, CIFAR-10 Batch 2:  loss:     0.3090     |    validation_accuracy: 0.647600\n",
      "Epoch 24, CIFAR-10 Batch 3:  loss:     0.3036     |    validation_accuracy: 0.655400\n",
      "Epoch 24, CIFAR-10 Batch 4:  loss:     0.3076     |    validation_accuracy: 0.653600\n",
      "Epoch 24, CIFAR-10 Batch 5:  loss:     0.3039     |    validation_accuracy: 0.670200\n",
      "Epoch 25, CIFAR-10 Batch 1:  loss:     0.3232     |    validation_accuracy: 0.669000\n",
      "Epoch 25, CIFAR-10 Batch 2:  loss:     0.3275     |    validation_accuracy: 0.632000\n",
      "Epoch 25, CIFAR-10 Batch 3:  loss:     0.2866     |    validation_accuracy: 0.643200\n",
      "Epoch 25, CIFAR-10 Batch 4:  loss:     0.3055     |    validation_accuracy: 0.651600\n",
      "Epoch 25, CIFAR-10 Batch 5:  loss:     0.3196     |    validation_accuracy: 0.660400\n",
      "Epoch 26, CIFAR-10 Batch 1:  loss:     0.3061     |    validation_accuracy: 0.661600\n",
      "Epoch 26, CIFAR-10 Batch 2:  loss:     0.2958     |    validation_accuracy: 0.632400\n",
      "Epoch 26, CIFAR-10 Batch 3:  loss:     0.3097     |    validation_accuracy: 0.634400\n",
      "Epoch 26, CIFAR-10 Batch 4:  loss:     0.3066     |    validation_accuracy: 0.653600\n",
      "Epoch 26, CIFAR-10 Batch 5:  loss:     0.3226     |    validation_accuracy: 0.650200\n",
      "Epoch 27, CIFAR-10 Batch 1:  loss:     0.3006     |    validation_accuracy: 0.667200\n",
      "Epoch 27, CIFAR-10 Batch 2:  loss:     0.2768     |    validation_accuracy: 0.637800\n",
      "Epoch 27, CIFAR-10 Batch 3:  loss:     0.3293     |    validation_accuracy: 0.635000\n",
      "Epoch 27, CIFAR-10 Batch 4:  loss:     0.2866     |    validation_accuracy: 0.655000\n",
      "Epoch 27, CIFAR-10 Batch 5:  loss:     0.2560     |    validation_accuracy: 0.662600\n",
      "Epoch 28, CIFAR-10 Batch 1:  loss:     0.2705     |    validation_accuracy: 0.669800\n",
      "Epoch 28, CIFAR-10 Batch 2:  loss:     0.2040     |    validation_accuracy: 0.667600\n",
      "Epoch 28, CIFAR-10 Batch 3:  loss:     0.2802     |    validation_accuracy: 0.651600\n",
      "Epoch 28, CIFAR-10 Batch 4:  loss:     0.2647     |    validation_accuracy: 0.656000\n",
      "Epoch 28, CIFAR-10 Batch 5:  loss:     0.2383     |    validation_accuracy: 0.657000\n",
      "Epoch 29, CIFAR-10 Batch 1:  loss:     0.2817     |    validation_accuracy: 0.654800\n",
      "Epoch 29, CIFAR-10 Batch 2:  loss:     0.2454     |    validation_accuracy: 0.663800\n",
      "Epoch 29, CIFAR-10 Batch 3:  loss:     0.2532     |    validation_accuracy: 0.646000\n",
      "Epoch 29, CIFAR-10 Batch 4:  loss:     0.2661     |    validation_accuracy: 0.642000\n",
      "Epoch 29, CIFAR-10 Batch 5:  loss:     0.2131     |    validation_accuracy: 0.676400\n",
      "Epoch 30, CIFAR-10 Batch 1:  loss:     0.2804     |    validation_accuracy: 0.654000\n",
      "Epoch 30, CIFAR-10 Batch 2:  loss:     0.2281     |    validation_accuracy: 0.666200\n",
      "Epoch 30, CIFAR-10 Batch 3:  loss:     0.2247     |    validation_accuracy: 0.657600\n",
      "Epoch 30, CIFAR-10 Batch 4:  loss:     0.2232     |    validation_accuracy: 0.641400\n",
      "Epoch 30, CIFAR-10 Batch 5:  loss:     0.2156     |    validation_accuracy: 0.670600\n",
      "Epoch 31, CIFAR-10 Batch 1:  loss:     0.2114     |    validation_accuracy: 0.669200\n",
      "Epoch 31, CIFAR-10 Batch 2:  loss:     0.2115     |    validation_accuracy: 0.654800\n",
      "Epoch 31, CIFAR-10 Batch 3:  loss:     0.1888     |    validation_accuracy: 0.665600\n",
      "Epoch 31, CIFAR-10 Batch 4:  loss:     0.1958     |    validation_accuracy: 0.645600\n",
      "Epoch 31, CIFAR-10 Batch 5:  loss:     0.1817     |    validation_accuracy: 0.672000\n",
      "Epoch 32, CIFAR-10 Batch 1:  loss:     0.1777     |    validation_accuracy: 0.674800\n",
      "Epoch 32, CIFAR-10 Batch 2:  loss:     0.1859     |    validation_accuracy: 0.662800\n",
      "Epoch 32, CIFAR-10 Batch 3:  loss:     0.1592     |    validation_accuracy: 0.673000\n",
      "Epoch 32, CIFAR-10 Batch 4:  loss:     0.1857     |    validation_accuracy: 0.656200\n",
      "Epoch 32, CIFAR-10 Batch 5:  loss:     0.1547     |    validation_accuracy: 0.674600\n",
      "Epoch 33, CIFAR-10 Batch 1:  loss:     0.1946     |    validation_accuracy: 0.655000\n",
      "Epoch 33, CIFAR-10 Batch 2:  loss:     0.1752     |    validation_accuracy: 0.661000\n",
      "Epoch 33, CIFAR-10 Batch 3:  loss:     0.1651     |    validation_accuracy: 0.653000\n",
      "Epoch 33, CIFAR-10 Batch 4:  loss:     0.2149     |    validation_accuracy: 0.636600\n",
      "Epoch 33, CIFAR-10 Batch 5:  loss:     0.2039     |    validation_accuracy: 0.649200\n",
      "Epoch 34, CIFAR-10 Batch 1:  loss:     0.2132     |    validation_accuracy: 0.640800\n",
      "Epoch 34, CIFAR-10 Batch 2:  loss:     0.1824     |    validation_accuracy: 0.656000\n",
      "Epoch 34, CIFAR-10 Batch 3:  loss:     0.1441     |    validation_accuracy: 0.661200\n",
      "Epoch 34, CIFAR-10 Batch 4:  loss:     0.1630     |    validation_accuracy: 0.649800\n",
      "Epoch 34, CIFAR-10 Batch 5:  loss:     0.1725     |    validation_accuracy: 0.661800\n",
      "Epoch 35, CIFAR-10 Batch 1:  loss:     0.1976     |    validation_accuracy: 0.644800\n",
      "Epoch 35, CIFAR-10 Batch 2:  loss:     0.1919     |    validation_accuracy: 0.647600\n",
      "Epoch 35, CIFAR-10 Batch 3:  loss:     0.1568     |    validation_accuracy: 0.652600\n",
      "Epoch 35, CIFAR-10 Batch 4:  loss:     0.1878     |    validation_accuracy: 0.660800\n",
      "Epoch 35, CIFAR-10 Batch 5:  loss:     0.1554     |    validation_accuracy: 0.651400\n",
      "Epoch 36, CIFAR-10 Batch 1:  loss:     0.1646     |    validation_accuracy: 0.659800\n",
      "Epoch 36, CIFAR-10 Batch 2:  loss:     0.1688     |    validation_accuracy: 0.656200\n",
      "Epoch 36, CIFAR-10 Batch 3:  loss:     0.1379     |    validation_accuracy: 0.655800\n",
      "Epoch 36, CIFAR-10 Batch 4:  loss:     0.2046     |    validation_accuracy: 0.649800\n",
      "Epoch 36, CIFAR-10 Batch 5:  loss:     0.1424     |    validation_accuracy: 0.651800\n",
      "Epoch 37, CIFAR-10 Batch 1:  loss:     0.1483     |    validation_accuracy: 0.669000\n",
      "Epoch 37, CIFAR-10 Batch 2:  loss:     0.1562     |    validation_accuracy: 0.652600\n",
      "Epoch 37, CIFAR-10 Batch 3:  loss:     0.1174     |    validation_accuracy: 0.663000\n",
      "Epoch 37, CIFAR-10 Batch 4:  loss:     0.1866     |    validation_accuracy: 0.650800\n",
      "Epoch 37, CIFAR-10 Batch 5:  loss:     0.1300     |    validation_accuracy: 0.649800\n",
      "Epoch 38, CIFAR-10 Batch 1:  loss:     0.1432     |    validation_accuracy: 0.659600\n",
      "Epoch 38, CIFAR-10 Batch 2:  loss:     0.1531     |    validation_accuracy: 0.643200\n",
      "Epoch 38, CIFAR-10 Batch 3:  loss:     0.1141     |    validation_accuracy: 0.664000\n",
      "Epoch 38, CIFAR-10 Batch 4:  loss:     0.1575     |    validation_accuracy: 0.660000\n",
      "Epoch 38, CIFAR-10 Batch 5:  loss:     0.1284     |    validation_accuracy: 0.643800\n",
      "Epoch 39, CIFAR-10 Batch 1:  loss:     0.1266     |    validation_accuracy: 0.658600\n",
      "Epoch 39, CIFAR-10 Batch 2:  loss:     0.1286     |    validation_accuracy: 0.640600\n",
      "Epoch 39, CIFAR-10 Batch 3:  loss:     0.1277     |    validation_accuracy: 0.660200\n",
      "Epoch 39, CIFAR-10 Batch 4:  loss:     0.1687     |    validation_accuracy: 0.652200\n",
      "Epoch 39, CIFAR-10 Batch 5:  loss:     0.1441     |    validation_accuracy: 0.641200\n",
      "Epoch 40, CIFAR-10 Batch 1:  loss:     0.1325     |    validation_accuracy: 0.660800\n",
      "Epoch 40, CIFAR-10 Batch 2:  loss:     0.1188     |    validation_accuracy: 0.648800\n",
      "Epoch 40, CIFAR-10 Batch 3:  loss:     0.1285     |    validation_accuracy: 0.657600\n",
      "Epoch 40, CIFAR-10 Batch 4:  loss:     0.1304     |    validation_accuracy: 0.654200\n",
      "Epoch 40, CIFAR-10 Batch 5:  loss:     0.1339     |    validation_accuracy: 0.637400\n",
      "Epoch 41, CIFAR-10 Batch 1:  loss:     0.1161     |    validation_accuracy: 0.652600\n",
      "Epoch 41, CIFAR-10 Batch 2:  loss:     0.1198     |    validation_accuracy: 0.647000\n",
      "Epoch 41, CIFAR-10 Batch 3:  loss:     0.1600     |    validation_accuracy: 0.654600\n",
      "Epoch 41, CIFAR-10 Batch 4:  loss:     0.1176     |    validation_accuracy: 0.662600\n",
      "Epoch 41, CIFAR-10 Batch 5:  loss:     0.0928     |    validation_accuracy: 0.655200\n",
      "Epoch 42, CIFAR-10 Batch 1:  loss:     0.1427     |    validation_accuracy: 0.661800\n",
      "Epoch 42, CIFAR-10 Batch 2:  loss:     0.1058     |    validation_accuracy: 0.651400\n",
      "Epoch 42, CIFAR-10 Batch 3:  loss:     0.1047     |    validation_accuracy: 0.667200\n",
      "Epoch 42, CIFAR-10 Batch 4:  loss:     0.1085     |    validation_accuracy: 0.660000\n",
      "Epoch 42, CIFAR-10 Batch 5:  loss:     0.1001     |    validation_accuracy: 0.654400\n",
      "Epoch 43, CIFAR-10 Batch 1:  loss:     0.1152     |    validation_accuracy: 0.670000\n",
      "Epoch 43, CIFAR-10 Batch 2:  loss:     0.0883     |    validation_accuracy: 0.647800\n",
      "Epoch 43, CIFAR-10 Batch 3:  loss:     0.0979     |    validation_accuracy: 0.658800\n",
      "Epoch 43, CIFAR-10 Batch 4:  loss:     0.1156     |    validation_accuracy: 0.661600\n",
      "Epoch 43, CIFAR-10 Batch 5:  loss:     0.0785     |    validation_accuracy: 0.658000\n",
      "Epoch 44, CIFAR-10 Batch 1:  loss:     0.0990     |    validation_accuracy: 0.673800\n",
      "Epoch 44, CIFAR-10 Batch 2:  loss:     0.0927     |    validation_accuracy: 0.650800\n",
      "Epoch 44, CIFAR-10 Batch 3:  loss:     0.0876     |    validation_accuracy: 0.661200\n",
      "Epoch 44, CIFAR-10 Batch 4:  loss:     0.1117     |    validation_accuracy: 0.670000\n",
      "Epoch 44, CIFAR-10 Batch 5:  loss:     0.0846     |    validation_accuracy: 0.643800\n",
      "Epoch 45, CIFAR-10 Batch 1:  loss:     0.1272     |    validation_accuracy: 0.647800\n",
      "Epoch 45, CIFAR-10 Batch 2:  loss:     0.1244     |    validation_accuracy: 0.647000\n",
      "Epoch 45, CIFAR-10 Batch 3:  loss:     0.0887     |    validation_accuracy: 0.651000\n",
      "Epoch 45, CIFAR-10 Batch 4:  loss:     0.0907     |    validation_accuracy: 0.668400\n",
      "Epoch 45, CIFAR-10 Batch 5:  loss:     0.0616     |    validation_accuracy: 0.659600\n",
      "Epoch 46, CIFAR-10 Batch 1:  loss:     0.0988     |    validation_accuracy: 0.659800\n",
      "Epoch 46, CIFAR-10 Batch 2:  loss:     0.1257     |    validation_accuracy: 0.651000\n",
      "Epoch 46, CIFAR-10 Batch 3:  loss:     0.1099     |    validation_accuracy: 0.643200\n",
      "Epoch 46, CIFAR-10 Batch 4:  loss:     0.1046     |    validation_accuracy: 0.646600\n",
      "Epoch 46, CIFAR-10 Batch 5:  loss:     0.0624     |    validation_accuracy: 0.660200\n",
      "Epoch 47, CIFAR-10 Batch 1:  loss:     0.0890     |    validation_accuracy: 0.658800\n",
      "Epoch 47, CIFAR-10 Batch 2:  loss:     0.1446     |    validation_accuracy: 0.649400\n",
      "Epoch 47, CIFAR-10 Batch 3:  loss:     0.0870     |    validation_accuracy: 0.646000\n",
      "Epoch 47, CIFAR-10 Batch 4:  loss:     0.0835     |    validation_accuracy: 0.662200\n",
      "Epoch 47, CIFAR-10 Batch 5:  loss:     0.0647     |    validation_accuracy: 0.660200\n",
      "Epoch 48, CIFAR-10 Batch 1:  loss:     0.0776     |    validation_accuracy: 0.666000\n",
      "Epoch 48, CIFAR-10 Batch 2:  loss:     0.1123     |    validation_accuracy: 0.644000\n",
      "Epoch 48, CIFAR-10 Batch 3:  loss:     0.0679     |    validation_accuracy: 0.658000\n",
      "Epoch 48, CIFAR-10 Batch 4:  loss:     0.0683     |    validation_accuracy: 0.660800\n",
      "Epoch 48, CIFAR-10 Batch 5:  loss:     0.0510     |    validation_accuracy: 0.660600\n",
      "Epoch 49, CIFAR-10 Batch 1:  loss:     0.0830     |    validation_accuracy: 0.655600\n",
      "Epoch 49, CIFAR-10 Batch 2:  loss:     0.0716     |    validation_accuracy: 0.645600\n",
      "Epoch 49, CIFAR-10 Batch 3:  loss:     0.0836     |    validation_accuracy: 0.652400\n",
      "Epoch 49, CIFAR-10 Batch 4:  loss:     0.0734     |    validation_accuracy: 0.658800\n",
      "Epoch 49, CIFAR-10 Batch 5:  loss:     0.0579     |    validation_accuracy: 0.654000\n",
      "Epoch 50, CIFAR-10 Batch 1:  loss:     0.0660     |    validation_accuracy: 0.664000\n",
      "Epoch 50, CIFAR-10 Batch 2:  loss:     0.0452     |    validation_accuracy: 0.656200\n",
      "Epoch 50, CIFAR-10 Batch 3:  loss:     0.0475     |    validation_accuracy: 0.661800\n",
      "Epoch 50, CIFAR-10 Batch 4:  loss:     0.0806     |    validation_accuracy: 0.647200\n",
      "Epoch 50, CIFAR-10 Batch 5:  loss:     0.0539     |    validation_accuracy: 0.655800\n",
      "Epoch 51, CIFAR-10 Batch 1:  loss:     0.0652     |    validation_accuracy: 0.661600\n",
      "Epoch 51, CIFAR-10 Batch 2:  loss:     0.0394     |    validation_accuracy: 0.660600\n",
      "Epoch 51, CIFAR-10 Batch 3:  loss:     0.0374     |    validation_accuracy: 0.658000\n",
      "Epoch 51, CIFAR-10 Batch 4:  loss:     0.0550     |    validation_accuracy: 0.653600\n",
      "Epoch 51, CIFAR-10 Batch 5:  loss:     0.0369     |    validation_accuracy: 0.659600\n",
      "Epoch 52, CIFAR-10 Batch 1:  loss:     0.0598     |    validation_accuracy: 0.664600\n",
      "Epoch 52, CIFAR-10 Batch 2:  loss:     0.0286     |    validation_accuracy: 0.666600\n",
      "Epoch 52, CIFAR-10 Batch 3:  loss:     0.0304     |    validation_accuracy: 0.666800\n",
      "Epoch 52, CIFAR-10 Batch 4:  loss:     0.0634     |    validation_accuracy: 0.650600\n",
      "Epoch 52, CIFAR-10 Batch 5:  loss:     0.0628     |    validation_accuracy: 0.659200\n",
      "Epoch 53, CIFAR-10 Batch 1:  loss:     0.0564     |    validation_accuracy: 0.670400\n",
      "Epoch 53, CIFAR-10 Batch 2:  loss:     0.0364     |    validation_accuracy: 0.656200\n",
      "Epoch 53, CIFAR-10 Batch 3:  loss:     0.0376     |    validation_accuracy: 0.662400\n",
      "Epoch 53, CIFAR-10 Batch 4:  loss:     0.0610     |    validation_accuracy: 0.652200\n",
      "Epoch 53, CIFAR-10 Batch 5:  loss:     0.0452     |    validation_accuracy: 0.657400\n",
      "Epoch 54, CIFAR-10 Batch 1:  loss:     0.0385     |    validation_accuracy: 0.668400\n",
      "Epoch 54, CIFAR-10 Batch 2:  loss:     0.0348     |    validation_accuracy: 0.650600\n",
      "Epoch 54, CIFAR-10 Batch 3:  loss:     0.0574     |    validation_accuracy: 0.659400\n",
      "Epoch 54, CIFAR-10 Batch 4:  loss:     0.0966     |    validation_accuracy: 0.634400\n",
      "Epoch 54, CIFAR-10 Batch 5:  loss:     0.0454     |    validation_accuracy: 0.651800\n",
      "Epoch 55, CIFAR-10 Batch 1:  loss:     0.0395     |    validation_accuracy: 0.669200\n",
      "Epoch 55, CIFAR-10 Batch 2:  loss:     0.0321     |    validation_accuracy: 0.658800\n",
      "Epoch 55, CIFAR-10 Batch 3:  loss:     0.0472     |    validation_accuracy: 0.647800\n",
      "Epoch 55, CIFAR-10 Batch 4:  loss:     0.0871     |    validation_accuracy: 0.633200\n",
      "Epoch 55, CIFAR-10 Batch 5:  loss:     0.0418     |    validation_accuracy: 0.647600\n",
      "Epoch 56, CIFAR-10 Batch 1:  loss:     0.0460     |    validation_accuracy: 0.666200\n",
      "Epoch 56, CIFAR-10 Batch 2:  loss:     0.0333     |    validation_accuracy: 0.651600\n",
      "Epoch 56, CIFAR-10 Batch 3:  loss:     0.0515     |    validation_accuracy: 0.646000\n",
      "Epoch 56, CIFAR-10 Batch 4:  loss:     0.1040     |    validation_accuracy: 0.630000\n",
      "Epoch 56, CIFAR-10 Batch 5:  loss:     0.0281     |    validation_accuracy: 0.660600\n",
      "Epoch 57, CIFAR-10 Batch 1:  loss:     0.0457     |    validation_accuracy: 0.672200\n",
      "Epoch 57, CIFAR-10 Batch 2:  loss:     0.0230     |    validation_accuracy: 0.660800\n",
      "Epoch 57, CIFAR-10 Batch 3:  loss:     0.0338     |    validation_accuracy: 0.660800\n",
      "Epoch 57, CIFAR-10 Batch 4:  loss:     0.0497     |    validation_accuracy: 0.642000\n",
      "Epoch 57, CIFAR-10 Batch 5:  loss:     0.0265     |    validation_accuracy: 0.655800\n",
      "Epoch 58, CIFAR-10 Batch 1:  loss:     0.0314     |    validation_accuracy: 0.668800\n",
      "Epoch 58, CIFAR-10 Batch 2:  loss:     0.0347     |    validation_accuracy: 0.656400\n",
      "Epoch 58, CIFAR-10 Batch 3:  loss:     0.0262     |    validation_accuracy: 0.661400\n",
      "Epoch 58, CIFAR-10 Batch 4:  loss:     0.0648     |    validation_accuracy: 0.634600\n",
      "Epoch 58, CIFAR-10 Batch 5:  loss:     0.0243     |    validation_accuracy: 0.658800\n",
      "Epoch 59, CIFAR-10 Batch 1:  loss:     0.0257     |    validation_accuracy: 0.663000\n",
      "Epoch 59, CIFAR-10 Batch 2:  loss:     0.0235     |    validation_accuracy: 0.655200\n",
      "Epoch 59, CIFAR-10 Batch 3:  loss:     0.0235     |    validation_accuracy: 0.671800\n",
      "Epoch 59, CIFAR-10 Batch 4:  loss:     0.0372     |    validation_accuracy: 0.650400\n",
      "Epoch 59, CIFAR-10 Batch 5:  loss:     0.0294     |    validation_accuracy: 0.651200\n",
      "Epoch 60, CIFAR-10 Batch 1:  loss:     0.0229     |    validation_accuracy: 0.671800\n",
      "Epoch 60, CIFAR-10 Batch 2:  loss:     0.0257     |    validation_accuracy: 0.656600\n",
      "Epoch 60, CIFAR-10 Batch 3:  loss:     0.0309     |    validation_accuracy: 0.657400\n",
      "Epoch 60, CIFAR-10 Batch 4:  loss:     0.0281     |    validation_accuracy: 0.660400\n",
      "Epoch 60, CIFAR-10 Batch 5:  loss:     0.0265     |    validation_accuracy: 0.650200\n"
     ]
    }
   ],
   "source": [
    "\"\"\"\n",
    "DON'T MODIFY ANYTHING IN THIS CELL\n",
    "\"\"\"\n",
    "save_model_path = './image_classification'\n",
    "\n",
    "print('Training...')\n",
    "with tf.Session() as sess:\n",
    "    # Initializing the variables\n",
    "    sess.run(tf.global_variables_initializer())\n",
    "    \n",
    "    # Training cycle\n",
    "    for epoch in range(epochs):\n",
    "        # Loop over all batches\n",
    "        n_batches = 5\n",
    "        for batch_i in range(1, n_batches + 1):\n",
    "            for batch_features, batch_labels in helper.load_preprocess_training_batch(batch_i, batch_size):\n",
    "                train_neural_network(sess, optimizer, keep_probability, batch_features, batch_labels)\n",
    "            print('Epoch {:>2}, CIFAR-10 Batch {}:  '.format(epoch + 1, batch_i), end='')\n",
    "            print_stats(sess, batch_features, batch_labels, cost, accuracy)\n",
    "            \n",
    "    # Save Model\n",
    "    saver = tf.train.Saver()\n",
    "    save_path = saver.save(sess, save_model_path)"
   ]
  },
  {
   "cell_type": "markdown",
   "metadata": {
    "deletable": true,
    "editable": true
   },
   "source": [
    "# Checkpoint\n",
    "The model has been saved to disk.\n",
    "## Test Model\n",
    "Test your model against the test dataset.  This will be your final accuracy. You should have an accuracy greater than 50%. If you don't, keep tweaking the model architecture and parameters."
   ]
  },
  {
   "cell_type": "code",
   "execution_count": 84,
   "metadata": {
    "collapsed": false,
    "deletable": true,
    "editable": true
   },
   "outputs": [
    {
     "name": "stdout",
     "output_type": "stream",
     "text": [
      "Testing Accuracy: 0.6529641538858414\n",
      "\n"
     ]
    },
    {
     "data": {
      "image/png": "[encoded data removed]",
      "text/plain": [
       "<matplotlib.figure.Figure at 0x7fc1c390e1d0>"
      ]
     },
     "metadata": {
      "image/png": {
       "height": 319,
       "width": 355
      }
     },
     "output_type": "display_data"
    }
   ],
   "source": [
    "\"\"\"\n",
    "DON'T MODIFY ANYTHING IN THIS CELL\n",
    "\"\"\"\n",
    "%matplotlib inline\n",
    "%config InlineBackend.figure_format = 'retina'\n",
    "\n",
    "import tensorflow as tf\n",
    "import pickle\n",
    "import helper\n",
    "import random\n",
    "\n",
    "# Set batch size if not already set\n",
    "try:\n",
    "    if batch_size:\n",
    "        pass\n",
    "except NameError:\n",
    "    batch_size = 64\n",
    "\n",
    "save_model_path = './image_classification'\n",
    "n_samples = 4\n",
    "top_n_predictions = 3\n",
    "\n",
    "def test_model():\n",
    "    \"\"\"\n",
    "    Test the saved model against the test dataset\n",
    "    \"\"\"\n",
    "\n",
    "    test_features, test_labels = pickle.load(open('preprocess_training.p', mode='rb'))\n",
    "    loaded_graph = tf.Graph()\n",
    "\n",
    "    with tf.Session(graph=loaded_graph) as sess:\n",
    "        # Load model\n",
    "        loader = tf.train.import_meta_graph(save_model_path + '.meta')\n",
    "        loader.restore(sess, save_model_path)\n",
    "\n",
    "        # Get Tensors from loaded model\n",
    "        loaded_x = loaded_graph.get_tensor_by_name('x:0')\n",
    "        loaded_y = loaded_graph.get_tensor_by_name('y:0')\n",
    "        loaded_keep_prob = loaded_graph.get_tensor_by_name('keep_prob:0')\n",
    "        loaded_logits = loaded_graph.get_tensor_by_name('logits:0')\n",
    "        loaded_acc = loaded_graph.get_tensor_by_name('accuracy:0')\n",
    "        \n",
    "        # Get accuracy in batches for memory limitations\n",
    "        test_batch_acc_total = 0\n",
    "        test_batch_count = 0\n",
    "        \n",
    "        for train_feature_batch, train_label_batch in helper.batch_features_labels(test_features, test_labels, batch_size):\n",
    "            test_batch_acc_total += sess.run(\n",
    "                loaded_acc,\n",
    "                feed_dict={loaded_x: train_feature_batch, loaded_y: train_label_batch, loaded_keep_prob: 1.0})\n",
    "            test_batch_count += 1\n",
    "\n",
    "        print('Testing Accuracy: {}\\n'.format(test_batch_acc_total/test_batch_count))\n",
    "\n",
    "        # Print Random Samples\n",
    "        random_test_features, random_test_labels = tuple(zip(*random.sample(list(zip(test_features, test_labels)), n_samples)))\n",
    "        random_test_predictions = sess.run(\n",
    "            tf.nn.top_k(tf.nn.softmax(loaded_logits), top_n_predictions),\n",
    "            feed_dict={loaded_x: random_test_features, loaded_y: random_test_labels, loaded_keep_prob: 1.0})\n",
    "        helper.display_image_predictions(random_test_features, random_test_labels, random_test_predictions)\n",
    "\n",
    "\n",
    "test_model()"
   ]
  },
  {
   "cell_type": "markdown",
   "metadata": {
    "deletable": true,
    "editable": true
   },
   "source": [
    "## Why 50-70% Accuracy?\n",
    "You might be wondering why you can't get an accuracy any higher. First things first, 50% isn't bad for a simple CNN.  Pure guessing would get you 10% accuracy. However, you might notice people are getting scores [well above 70%](http://rodrigob.github.io/are_we_there_yet/build/classification_datasets_results.html#43494641522d3130).  That's because we haven't taught you all there is to know about neural networks. We still need to cover a few more techniques.\n",
    "## Submitting This Project\n",
    "When submitting this project, make sure to run all the cells before saving the notebook.  Save the notebook file as \"dlnd_image_classification.ipynb\" and save it as a HTML file under \"File\" -> \"Download as\".  Include the \"helper.py\" and \"problem_unittests.py\" files in your submission."
   ]
  }
 ],
 "metadata": {
  "kernelspec": {
   "display_name": "Python 3",
   "language": "python",
   "name": "python3"
  },
  "language_info": {
   "codemirror_mode": {
    "name": "ipython",
    "version": 3
   },
   "file_extension": ".py",
   "mimetype": "text/x-python",
   "name": "python",
   "nbconvert_exporter": "python",
   "pygments_lexer": "ipython3",
   "version": "3.6.0"
  }
 },
 "nbformat": 4,
 "nbformat_minor": 0
}
